{
  "nbformat": 4,
  "nbformat_minor": 0,
  "metadata": {
    "colab": {
      "provenance": []
    },
    "kernelspec": {
      "name": "python3",
      "display_name": "Python 3"
    },
    "language_info": {
      "name": "python"
    }
  },
  "cells": [
    {
      "cell_type": "code",
      "source": [
        "# ✅ Install required libraries\n",
        "!pip install -q yt-dlp gradio"
      ],
      "metadata": {
        "id": "JNQWboL8XosZ"
      },
      "execution_count": null,
      "outputs": []
    },
    {
      "cell_type": "code",
      "source": [
        "import yt_dlp\n",
        "import gradio as gr\n",
        "import os\n",
        "\n",
        "# ✅ Function to download YouTube Shorts or Video\n",
        "def download_youtube_video(url):\n",
        "    output_filename = \"%(title)s.%(ext)s\"  # Save file with video title\n",
        "\n",
        "    # yt-dlp options\n",
        "    ydl_opts = {\n",
        "        \"format\": \"bestvideo+bestaudio/best\",  # Download best quality\n",
        "        \"outtmpl\": output_filename,  # Filename format\n",
        "    }\n",
        "\n",
        "    try:\n",
        "        with yt_dlp.YoutubeDL(ydl_opts) as ydl:\n",
        "            info_dict = ydl.extract_info(url, download=True)\n",
        "            filename = ydl.prepare_filename(info_dict)  # Get the file name\n",
        "\n",
        "        # Check if file exists\n",
        "        if os.path.exists(filename):\n",
        "            return filename  # Return file for Gradio download\n",
        "        else:\n",
        "            return \"Download failed.\"\n",
        "\n",
        "    except Exception as e:\n",
        "        return f\"Error: {e}\"\n",
        "\n",
        "# ✅ Gradio Interface\n",
        "iface = gr.Interface(\n",
        "    fn=download_youtube_video,\n",
        "    inputs=gr.Textbox(label=\"Enter YouTube Link\"),\n",
        "    outputs=gr.File(label=\"Download Your Video\"),\n",
        "    title=\"YouTube Shorts Downloader\",\n",
        "    description=\"Paste a YouTube link and download the video.\",\n",
        ")\n",
        "\n",
        "# ✅ Launch the Gradio app\n",
        "iface.launch(share=True)"
      ],
      "metadata": {
        "colab": {
          "base_uri": "https://localhost:8080/",
          "height": 611
        },
        "id": "Oq2WtKsNXlm0",
        "outputId": "65a750bb-b84c-4ce7-c1a5-93c2bd4ac9be"
      },
      "execution_count": 12,
      "outputs": [
        {
          "output_type": "stream",
          "name": "stdout",
          "text": [
            "Colab notebook detected. To show errors in colab notebook, set debug=True in launch()\n",
            "* Running on public URL: https://a587309b49a186173c.gradio.live\n",
            "\n",
            "This share link expires in 72 hours. For free permanent hosting and GPU upgrades, run `gradio deploy` from the terminal in the working directory to deploy to Hugging Face Spaces (https://huggingface.co/spaces)\n"
          ]
        },
        {
          "output_type": "display_data",
          "data": {
            "text/plain": [
              "<IPython.core.display.HTML object>"
            ],
            "text/html": [
              "<div><iframe src=\"https://a587309b49a186173c.gradio.live\" width=\"100%\" height=\"500\" allow=\"autoplay; camera; microphone; clipboard-read; clipboard-write;\" frameborder=\"0\" allowfullscreen></iframe></div>"
            ]
          },
          "metadata": {}
        },
        {
          "output_type": "execute_result",
          "data": {
            "text/plain": []
          },
          "metadata": {},
          "execution_count": 12
        }
      ]
    }
  ]
}